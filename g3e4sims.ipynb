{
 "metadata": {
  "language_info": {
   "codemirror_mode": {
    "name": "ipython",
    "version": 3
   },
   "file_extension": ".py",
   "mimetype": "text/x-python",
   "name": "python",
   "nbconvert_exporter": "python",
   "pygments_lexer": "ipython3",
   "version": "3.9.4"
  },
  "orig_nbformat": 2,
  "kernelspec": {
   "name": "python394jvsc74a57bd031f2aee4e71d21fbe5cf8b01ff0e069b9275f58929596ceb00d14d90e3e16cd6",
   "display_name": "Python 3.9.4 64-bit"
  },
  "metadata": {
   "interpreter": {
    "hash": "31f2aee4e71d21fbe5cf8b01ff0e069b9275f58929596ceb00d14d90e3e16cd6"
   }
  }
 },
 "nbformat": 4,
 "nbformat_minor": 2,
 "cells": [
  {
   "cell_type": "code",
   "execution_count": 41,
   "metadata": {},
   "outputs": [
    {
     "output_type": "execute_result",
     "data": {
      "text/plain": [
       "5.888332934151275"
      ]
     },
     "metadata": {},
     "execution_count": 41
    }
   ],
   "source": [
    "from scipy.stats import expon as e\n",
    "from random import random as r\n",
    "from random import expovariate as ev\n",
    "\n"
   ]
  },
  {
   "cell_type": "code",
   "execution_count": 103,
   "metadata": {
    "tags": []
   },
   "outputs": [
    {
     "output_type": "stream",
     "name": "stdout",
     "text": [
      "Probability of waiting less than 4 minutes : 0.651146\nProbabilities of having selected the ith lane given that the wait time was greather than 4 minutes:\nLane 1 : 0.302705\nLane 2 : 0.336857\nLane 3 : 0.360437\n"
     ]
    }
   ],
   "source": [
    "y = 0 # Waited less than 4 minutes\n",
    "zs = [0, 0, 0]# Selected the lane i given that the wait time was more than 4 minutes\n",
    "N = 1000000\n",
    "for _ in range(N):\n",
    "    u = r()\n",
    "    if u <= .4:\n",
    "        w = ev(1/3)\n",
    "        if (w >= 4): zs[0]+=1\n",
    "        else : y+=1\n",
    "    elif 0.4 < u <=0.72:\n",
    "        w = ev(1/4)\n",
    "        time_waited.append(w)\n",
    "        if (w >= 4): zs[1]+=1\n",
    "        else : y+=1\n",
    "    elif 0.72 < u <= 1:\n",
    "        w = ev(1/5)\n",
    "        time_waited.append(w)\n",
    "        if (w >= 4): zs[2]+=1\n",
    "        else : y+=1\n",
    "print(\"Probability of waiting less than 4 minutes : %f\" % (y / N))\n",
    "print(\"Probabilities of having selected the ith lane given that the wait time was greather than 4 minutes:\")\n",
    "print(\"Lane 1 : %f\" % (zs[0]/sum(zs)))\n",
    "print(\"Lane 2 : %f\" % (zs[1]/sum(zs)))\n",
    "print(\"Lane 3 : %f\" % (zs[2]/sum(zs)))"
   ]
  }
 ]
}