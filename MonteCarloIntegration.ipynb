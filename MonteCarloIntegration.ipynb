{
 "metadata": {
  "language_info": {
   "codemirror_mode": {
    "name": "ipython",
    "version": 3
   },
   "file_extension": ".py",
   "mimetype": "text/x-python",
   "name": "python",
   "nbconvert_exporter": "python",
   "pygments_lexer": "ipython3",
   "version": "3.9.4"
  },
  "orig_nbformat": 2,
  "kernelspec": {
   "name": "python394jvsc74a57bd031f2aee4e71d21fbe5cf8b01ff0e069b9275f58929596ceb00d14d90e3e16cd6",
   "display_name": "Python 3.9.4 64-bit"
  },
  "metadata": {
   "interpreter": {
    "hash": "31f2aee4e71d21fbe5cf8b01ff0e069b9275f58929596ceb00d14d90e3e16cd6"
   }
  }
 },
 "nbformat": 4,
 "nbformat_minor": 2,
 "cells": [
  {
   "cell_type": "code",
   "execution_count": 88,
   "metadata": {},
   "outputs": [],
   "source": [
    "import random as rdm\n",
    "import scipy as sp\n",
    "from scipy import integrate as spintegrate\n"
   ]
  },
  {
   "source": [
    "![](ej5g3.png)"
   ],
   "cell_type": "markdown",
   "metadata": {}
  },
  {
   "cell_type": "code",
   "execution_count": 89,
   "metadata": {},
   "outputs": [
    {
     "output_type": "execute_result",
     "data": {
      "text/plain": [
       "0.5889964201284329"
      ]
     },
     "metadata": {},
     "execution_count": 89
    }
   ],
   "source": [
    "#a\n",
    "g = lambda x : (1-x**2)**(3/2)\n",
    "N = 100000\n",
    "sum(g(rdm.random()) for _ in range(N))  / N\n"
   ]
  },
  {
   "cell_type": "code",
   "execution_count": 128,
   "metadata": {},
   "outputs": [],
   "source": [
    "#Esta funcion provee una aproximacion para la integral de f en el intervalo a,b\n",
    "#usando el método de Monte Carlo con una muestra de tamaño N\n",
    "\n",
    "def integrate(f, a, b, N):\n",
    "    return ((b - a) / N) * sum(f((b - a) * rdm.random() + a) for _ in range(N))\n"
   ]
  },
  {
   "cell_type": "code",
   "execution_count": 84,
   "metadata": {},
   "outputs": [],
   "source": [
    "h = lambda x: x / (x**2 - 1 )"
   ]
  },
  {
   "cell_type": "code",
   "execution_count": 135,
   "metadata": {},
   "outputs": [
    {
     "output_type": "stream",
     "name": "stdout",
     "text": [
      "a) 0.588780\nb) 3.499727\n"
     ]
    }
   ],
   "source": [
    "print (\"a) %f\" % integrate(g, 0, 1, 1000000))\n",
    "print (\"b) %f\" % integrate(h, 2, 3, 1000000))"
   ]
  }
 ]
}