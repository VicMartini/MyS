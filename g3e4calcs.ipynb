{
 "metadata": {
  "language_info": {
   "codemirror_mode": {
    "name": "ipython",
    "version": 3
   },
   "file_extension": ".py",
   "mimetype": "text/x-python",
   "name": "python",
   "nbconvert_exporter": "python",
   "pygments_lexer": "ipython3",
   "version": "3.9.4"
  },
  "orig_nbformat": 2,
  "kernelspec": {
   "name": "python394jvsc74a57bd031f2aee4e71d21fbe5cf8b01ff0e069b9275f58929596ceb00d14d90e3e16cd6",
   "display_name": "Python 3.9.4 64-bit"
  },
  "metadata": {
   "interpreter": {
    "hash": "31f2aee4e71d21fbe5cf8b01ff0e069b9275f58929596ceb00d14d90e3e16cd6"
   }
  }
 },
 "nbformat": 4,
 "nbformat_minor": 2,
 "cells": [
  {
   "cell_type": "code",
   "execution_count": 7,
   "metadata": {},
   "outputs": [],
   "source": [
    "from scipy.stats import expon as e\n",
    "from math import exp"
   ]
  },
  {
   "cell_type": "code",
   "execution_count": 40,
   "metadata": {},
   "outputs": [
    {
     "output_type": "stream",
     "name": "stdout",
     "text": [
      "0.6510276136260258\n"
     ]
    }
   ],
   "source": [
    "#Parte A\n",
    "a = e.cdf(4, scale=3.) * .4 + e.cdf(4, scale= 4.) * .32 + e.cdf(4, scale=5.) * .28\n",
    "print(a)"
   ]
  },
  {
   "cell_type": "code",
   "execution_count": 41,
   "metadata": {},
   "outputs": [
    {
     "output_type": "execute_result",
     "data": {
      "text/plain": [
       "0.30214096978234195"
      ]
     },
     "metadata": {},
     "execution_count": 41
    }
   ],
   "source": [
    "#Parte B \n",
    "((1 - e.cdf(4, scale=3.))*0.4) / (1 - a)"
   ]
  },
  {
   "cell_type": "code",
   "execution_count": 47,
   "metadata": {},
   "outputs": [
    {
     "output_type": "stream",
     "name": "stdout",
     "text": [
      "Probs: Lane 2 = 0.337337, Lane 3 = 0.360522\n"
     ]
    }
   ],
   "source": [
    "#Gneralicemos esto para calcular los otros items\n",
    "p = lambda s, p: ((1 - e.cdf(4, scale=s))*p) / (1 - a)\n",
    "print(\"Probs: Lane 2 = %f, Lane 3 = %f\" % (p(4,0.32), p(5,0.28)))"
   ]
  },
  {
   "cell_type": "code",
   "execution_count": 48,
   "metadata": {},
   "outputs": [
    {
     "output_type": "execute_result",
     "data": {
      "text/plain": [
       "1.0000000000000002"
      ]
     },
     "metadata": {},
     "execution_count": 48
    }
   ],
   "source": [
    "#Sanity check\n",
    "p(3,.4)+p(4,.32)+p(5,.28)"
   ]
  }
 ]
}