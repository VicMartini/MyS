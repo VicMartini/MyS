{
 "metadata": {
  "language_info": {
   "codemirror_mode": {
    "name": "ipython",
    "version": 3
   },
   "file_extension": ".py",
   "mimetype": "text/x-python",
   "name": "python",
   "nbconvert_exporter": "python",
   "pygments_lexer": "ipython3",
   "version": "3.8.5"
  },
  "orig_nbformat": 2,
  "kernelspec": {
   "name": "python385jvsc74a57bd0f6537524beffae628aae64a1ca52aff29357a8f2ba53feb141cd72bd31f63431",
   "display_name": "Python 3.8.5 64-bit ('base': conda)"
  }
 },
 "nbformat": 4,
 "nbformat_minor": 2,
 "cells": [
  {
   "cell_type": "code",
   "execution_count": 35,
   "metadata": {},
   "outputs": [],
   "source": [
    "def congrand(a, c, M, y):\n",
    "    #print(\"a: %d, c: %d, M: %d\" % (a, c, M))\n",
    "    return (a * y + c) % M    "
   ]
  },
  {
   "cell_type": "code",
   "execution_count": 61,
   "metadata": {},
   "outputs": [],
   "source": [
    "values = [\n",
    "    (125, 3, 2**9),    # 123 y 125 son coprimos con 2**9, ambos números son divisibles por 4\n",
    "    (123, 3, 2**9),    # pero no se da que 123, 125 mod 4 = 1, por otro lado, si se cumple\n",
    "                       # que 125, 123 mod 2 = 1 (2 es el único factor primo de 2**9)\n",
    "    (5, 0, 71),        #Para estos dos casos la secuencia va a \n",
    "    (7, 0, 71)         #degenerar a una secuencia infinita de \n",
    "]                      #ceros, eventualmente."
   ]
  },
  {
   "cell_type": "code",
   "execution_count": 77,
   "metadata": {},
   "outputs": [
    {
     "output_type": "stream",
     "name": "stdout",
     "text": [
      "Period of the 1th sequence: 512\n\nPeriod of the 2th sequence: 256\n\nPeriod of the 3th sequence: 5\n\nPeriod of the 4th sequence: 70\n\n"
     ]
    }
   ],
   "source": [
    "seqs = [[],[],[],[]]\n",
    "us = [42,42,42,42]\n",
    "for i in range(0,600):\n",
    "    for j in range(0,4):\n",
    "        us[j] = congrand(*values[j], us[j])\n",
    "        seqs[j].append(us[j])\n",
    "\n",
    "for i in range(0,4):\n",
    "    print(\"Period of the %dth sequence: %d\\n\"% (i+1,findperiod(seqs[i])))"
   ]
  },
  {
   "cell_type": "code",
   "execution_count": 20,
   "metadata": {},
   "outputs": [],
   "source": [
    "def findperiod(a):\n",
    "    reps = [(i,j) for i in range(0,len(a)) for j in range(0,len(a)) if a[i] == a[j] and j > i]\n",
    "    distances = [i[1] - i[0] for i in reps]\n",
    "    return min(distances)"
   ]
  },
  {
   "cell_type": "code",
   "execution_count": 22,
   "metadata": {},
   "outputs": [
    {
     "output_type": "execute_result",
     "data": {
      "text/plain": [
       "3"
      ]
     },
     "metadata": {},
     "execution_count": 22
    }
   ],
   "source": []
  }
 ]
}